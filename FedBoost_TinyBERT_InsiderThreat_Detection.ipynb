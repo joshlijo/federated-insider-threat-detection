{
  "cells": [
    {
      "cell_type": "code",
      "execution_count": null,
      "metadata": {
        "colab": {
          "base_uri": "https://localhost:8080/"
        },
        "id": "siTkZ6-V0XlX",
        "outputId": "7070bafe-9f7a-4d0a-eafe-43467e682644"
      },
      "outputs": [
        {
          "name": "stdout",
          "output_type": "stream",
          "text": [
            "Drive already mounted at /content/drive; to attempt to forcibly remount, call drive.mount(\"/content/drive\", force_remount=True).\n"
          ]
        }
      ],
      "source": [
        "# =============================\n",
        "# STEP 1: Mount Google Drive\n",
        "# =============================\n",
        "from google.colab import drive\n",
        "drive.mount('/content/drive')"
      ]
    },
    {
      "cell_type": "code",
      "execution_count": null,
      "metadata": {
        "id": "G8AKG8M00atI"
      },
      "outputs": [],
      "source": [
        "# =============================\n",
        "# STEP 2: Import Libraries\n",
        "# =============================\n",
        "import pandas as pd\n",
        "import numpy as np\n",
        "import lightgbm as lgb # for LightGBM modeling\n",
        "from sklearn.model_selection import train_test_split\n",
        "from sklearn.metrics import roc_auc_score, classification_report, precision_recall_curve\n",
        "import gc # for memory cleanup\n",
        "import copy # to deepcopy models across rounds\n",
        "import torch # for PyTorch model inference\n",
        "from transformers import AutoTokenizer, AutoModel # for TinyBERT tokenizer and model"
      ]
    },
    {
      "cell_type": "code",
      "execution_count": null,
      "metadata": {
        "colab": {
          "base_uri": "https://localhost:8080/"
        },
        "id": "ErVEFnSp0icR",
        "outputId": "0e7cac85-6594-4ced-baca-f880a8797d0b"
      },
      "outputs": [
        {
          "name": "stdout",
          "output_type": "stream",
          "text": [
            "Logon Shape: (1829996, 5)\n",
            "File Shape: (947613, 9)\n",
            "Decoy File Shape: (10961, 2)\n"
          ]
        }
      ],
      "source": [
        "# =============================\n",
        "# STEP 3: Load CERT Dataset\n",
        "# =============================\n",
        "logon_df = pd.read_csv(\"/content/drive/My Drive/extracted_r5.1/r5.1/logon.csv\")\n",
        "file_df = pd.read_csv(\"/content/drive/My Drive/extracted_r5.1/r5.1/file.csv\")\n",
        "decoy_df = pd.read_csv(\"/content/drive/My Drive/extracted_r5.1/r5.1/decoy_file.csv\")\n",
        "\n",
        "print(\"Logon Shape:\", logon_df.shape)\n",
        "print(\"File Shape:\", file_df.shape)\n",
        "print(\"Decoy File Shape:\", decoy_df.shape)"
      ]
    },
    {
      "cell_type": "code",
      "execution_count": null,
      "metadata": {
        "id": "Z4Q1rNDa0kQ7"
      },
      "outputs": [],
      "source": [
        "# =============================\n",
        "# STEP 4: Feature Engineering (Logon)\n",
        "# =============================\n",
        "# Extract behavioral features from logon logs:\n",
        "# login frequency, devices used, failed logons, weekend usage, session duration\n",
        "\n",
        "logon_df['date'] = pd.to_datetime(logon_df['date'], errors='coerce')\n",
        "logon_df.dropna(subset=['date'], inplace=True)\n",
        "\n",
        "# Login Frequency\n",
        "logon_freq = logon_df.groupby('user')['date'].count().reset_index()\n",
        "logon_freq.columns = ['user', 'login_frequency']\n",
        "\n",
        "# Unique Devices\n",
        "unique_devices = logon_df.groupby('user')['pc'].nunique().reset_index()\n",
        "unique_devices.columns = ['user', 'num_unique_devices']\n",
        "\n",
        "# Failed Logon Attempts\n",
        "failed_logons = logon_df[logon_df['activity'] == 'LogonFailure']\n",
        "failed_attempts = failed_logons.groupby('user')['activity'].count().reset_index()\n",
        "failed_attempts.columns = ['user', 'failed_logon_attempts']\n",
        "\n",
        "# Count weekend logons per user (Saturday = 5, Sunday = 6)\n",
        "logon_df['weekday'] = logon_df['date'].dt.weekday\n",
        "weekend_logons = logon_df[logon_df['weekday'] >= 5].groupby('user')['activity'].count().reset_index()\n",
        "weekend_logons.columns = ['user', 'weekend_logon_count']\n",
        "\n",
        "# Compute average session duration by taking time difference between logon and logoff\n",
        "logon_filtered = logon_df[logon_df['activity'].isin(['Logon', 'Logoff'])]\n",
        "logon_filtered['session_duration'] = logon_filtered.groupby(['user', 'pc'])['date'].diff()\n",
        "session_durations = logon_filtered[logon_filtered['activity'] == 'Logoff'][['user', 'session_duration']]\n",
        "session_durations['session_duration'] = session_durations['session_duration'].dt.total_seconds()\n",
        "avg_session_duration = session_durations.groupby('user')['session_duration'].mean().reset_index()\n",
        "avg_session_duration.columns = ['user', 'avg_session_duration']"
      ]
    },
    {
      "cell_type": "code",
      "execution_count": null,
      "metadata": {
        "id": "uZ96U6Q20o0G"
      },
      "outputs": [],
      "source": [
        "# =============================\n",
        "# STEP 5: Feature Engineering (File)\n",
        "# =============================\n",
        "\n",
        "# Extract features from file access logs:\n",
        "# total files accessed, sensitive file access, and file access timing\n",
        "\n",
        "# Count total number of file accesses per user\n",
        "file_access = file_df.groupby('user')['filename'].count().reset_index()\n",
        "file_access.columns = ['user', 'total_file_accesses']\n",
        "\n",
        "# Count accesses to sensitive file types (.pdf, .doc, etc.)\n",
        "#Internal reports, financial data\n",
        "sensitive_files = file_df[file_df['filename'].str.endswith(('.pdf', '.doc', '.docx', '.exe'))]\n",
        "sensitive_access = sensitive_files.groupby('user')['filename'].count().reset_index()\n",
        "sensitive_access.columns = ['user', 'sensitive_file_accesses']\n",
        "\n",
        "# Compute average file access hour per user\n",
        "file_df['date'] = pd.to_datetime(file_df['date'], errors='coerce')\n",
        "file_df.dropna(subset=['date'], inplace=True)\n",
        "file_df['hour'] = file_df['date'].dt.hour\n",
        "file_access_hour = file_df.groupby('user')['hour'].mean().reset_index()\n",
        "file_access_hour.columns = ['user', 'avg_file_access_hour']"
      ]
    },
    {
      "cell_type": "code",
      "execution_count": null,
      "metadata": {
        "id": "QP_sMG1A0s9r"
      },
      "outputs": [],
      "source": [
        "# =============================\n",
        "# STEP 6: Merge Features\n",
        "# =============================\n",
        "\n",
        "# Combine all extracted behavioral features into a single dataframe\n",
        "\n",
        "features_df = logon_freq.merge(unique_devices, on='user', how='left')\n",
        "features_df = features_df.merge(failed_attempts, on='user', how='left')\n",
        "features_df = features_df.merge(weekend_logons, on='user', how='left')\n",
        "features_df = features_df.merge(avg_session_duration, on='user', how='left')\n",
        "features_df = features_df.merge(file_access, on='user', how='left')\n",
        "features_df = features_df.merge(sensitive_access, on='user', how='left')\n",
        "features_df = features_df.merge(file_access_hour, on='user', how='left')\n",
        "features_df = features_df.fillna(0)"
      ]
    },
    {
      "cell_type": "code",
      "execution_count": null,
      "metadata": {
        "colab": {
          "base_uri": "https://localhost:8080/"
        },
        "id": "j7xTCN9w0wpP",
        "outputId": "843499d3-76be-4ead-b8b1-135692bfbf49"
      },
      "outputs": [
        {
          "name": "stdout",
          "output_type": "stream",
          "text": [
            "Label distribution:\n",
            "label\n",
            "1    1698\n",
            "0     302\n",
            "Name: count, dtype: int64\n"
          ]
        }
      ],
      "source": [
        "# =============================\n",
        "# STEP 7: Label Users\n",
        "# =============================\n",
        "\n",
        "# Mark users who logged into decoy PCs as malicious (label = 1), rest are benign (label = 0)\n",
        "\n",
        "decoy_pcs = decoy_df['pc'].unique().tolist()\n",
        "malicious_logons = logon_df[logon_df['pc'].isin(decoy_pcs)]\n",
        "malicious_users = malicious_logons['user'].unique().tolist()\n",
        "features_df['label'] = features_df['user'].apply(lambda x: 1 if x in malicious_users else 0)\n",
        "\n",
        "print(\"Label distribution:\")\n",
        "print(features_df['label'].value_counts())"
      ]
    },
    {
      "cell_type": "code",
      "execution_count": null,
      "metadata": {
        "id": "_nJGBvCe0zzI"
      },
      "outputs": [],
      "source": [
        "# =============================\n",
        "# STEP 8: Prepare Logon Sequences for TinyBERT\n",
        "# =============================\n",
        "\n",
        "# Construct a sequence string for each user combining their activity, PC, and hour\n",
        "\n",
        "user_sequences = {}\n",
        "\n",
        "for user, group in logon_df.groupby('user'):\n",
        "    seq = []\n",
        "    for _, row in group.iterrows():\n",
        "        seq.append(f\"{row['activity']} {row['pc']} {row['date'].hour}H\")\n",
        "    user_sequences[user] = \" → \".join(seq)"
      ]
    },
    {
      "cell_type": "code",
      "execution_count": null,
      "metadata": {
        "colab": {
          "base_uri": "https://localhost:8080/",
          "height": 217,
          "referenced_widgets": [
            "299f59acadf54d33979993fea05c8d11",
            "8ae2edf522f54769b2ec9bb5fc22fab1",
            "acd7ea4fcce9451ca64ee8cd0d487d06",
            "e7eb3ae99ea540d8ace5fafb8636d0e2",
            "4883c5f9ef7f49b4b8b3bf5c0a7a01ee",
            "49d7466888e846309a5df3ae587ae2a9",
            "d65b8768df454ed2889cdf78e06df497",
            "557f7dd122c940b1b0cb0f2b83b25fe1",
            "6d50b7cb361f43d09c64795f953e58ea",
            "6c6c65aaffa04d4d8106fb8954292aa9",
            "abc9156c1b734df89fb66a72136b9e51",
            "b210d4bc54464ef29c6fbfebf5a4962c",
            "8456f1a85e4244c084b832690edc5a04",
            "4aa3a5b2f79a4a1899c7f777f7b7d6e7",
            "6b315f0f5dc24998a7f1bf5ef19c7d2a",
            "d7c54a863777445787543c225c935014",
            "a799386305f74117a2f350b872c1fd13",
            "e0d8bad8bd0440cea89bbd9da4755b0a",
            "bb12bfa770dd4f74a91af76bc0ee5cb9",
            "8598cc965f844c748a945a86584242b3",
            "6e6ae4c7325b49a4a057cb2cfad9cd90",
            "0f34429dc38a4154a361757af68ec397",
            "1af1dc030bc646e9a4b96c453656f9fe",
            "c8d6001753d04981bd171d554ab260f5",
            "72c8594e349848fe9f800bb979eb950b",
            "c156748fb0e5478885cdc78c03064c2a",
            "7d711bd8bea546c2b5c0078775bb79a6",
            "36a4613486f740c6b580db27a61550c3",
            "54d4de0af2d7441684bddfff7fd9cd62",
            "53e20ebbfa9d41709e42cdf87dc51aa4",
            "b94b2b95b95747e0bd3f907f8652c02d",
            "48aebdc8523d4c01b7017a0345f87fd3",
            "307baa92cc3447a19f3dcbaee634afa2"
          ]
        },
        "id": "YSV_c4pP03TJ",
        "outputId": "1a75c9e3-0edc-4d08-8408-762599b372af"
      },
      "outputs": [
        {
          "name": "stderr",
          "output_type": "stream",
          "text": [
            "/usr/local/lib/python3.11/dist-packages/huggingface_hub/utils/_auth.py:94: UserWarning: \n",
            "The secret `HF_TOKEN` does not exist in your Colab secrets.\n",
            "To authenticate with the Hugging Face Hub, create a token in your settings tab (https://huggingface.co/settings/tokens), set it as secret in your Google Colab and restart your session.\n",
            "You will be able to reuse this secret in all of your notebooks.\n",
            "Please note that authentication is recommended but still optional to access public models or datasets.\n",
            "  warnings.warn(\n"
          ]
        },
        {
          "data": {
            "application/vnd.jupyter.widget-view+json": {
              "model_id": "299f59acadf54d33979993fea05c8d11",
              "version_major": 2,
              "version_minor": 0
            },
            "text/plain": [
              "config.json:   0%|          | 0.00/285 [00:00<?, ?B/s]"
            ]
          },
          "metadata": {},
          "output_type": "display_data"
        },
        {
          "data": {
            "application/vnd.jupyter.widget-view+json": {
              "model_id": "b210d4bc54464ef29c6fbfebf5a4962c",
              "version_major": 2,
              "version_minor": 0
            },
            "text/plain": [
              "vocab.txt:   0%|          | 0.00/232k [00:00<?, ?B/s]"
            ]
          },
          "metadata": {},
          "output_type": "display_data"
        },
        {
          "data": {
            "application/vnd.jupyter.widget-view+json": {
              "model_id": "1af1dc030bc646e9a4b96c453656f9fe",
              "version_major": 2,
              "version_minor": 0
            },
            "text/plain": [
              "pytorch_model.bin:   0%|          | 0.00/17.8M [00:00<?, ?B/s]"
            ]
          },
          "metadata": {},
          "output_type": "display_data"
        }
      ],
      "source": [
        "# =============================\n",
        "# STEP 9: Load TinyBERT Model\n",
        "# =============================\n",
        "\n",
        "# Load TinyBERT for generating behavior-aware embeddings from user sequences\n",
        "\n",
        "# Load pretrained TinyBERT model and tokenizer\n",
        "tokenizer = AutoTokenizer.from_pretrained(\"prajjwal1/bert-tiny\")\n",
        "model = AutoModel.from_pretrained(\"prajjwal1/bert-tiny\")"
      ]
    },
    {
      "cell_type": "code",
      "execution_count": null,
      "metadata": {
        "colab": {
          "base_uri": "https://localhost:8080/",
          "referenced_widgets": [
            "8bca01bafe1347aca534573bab3a0404",
            "86bdb2b6d7944a759061a1c2027e5f66",
            "11643e0e5dba40939e3970ff7ba94e2f",
            "894072a6959440809f59a34bf12217f3",
            "3c67728006834d418058d4137d9627f4",
            "65f754df152e41dda2b47f48646a2c15",
            "50f5d447d15142b9947cb82c4ee3b165",
            "99e8536f74f447aebcd9f57652e3d425",
            "4a212efda8cf4842b72efc2a36ee3b28",
            "8c0c3ed4191f4e5599a5963c1bdee943",
            "f5fc6fb64d4e4f97a4895a34a87f85d8"
          ]
        },
        "id": "R6KNXwVs6FZ1",
        "outputId": "e28ec515-7f16-4a46-eb25-1c486170bda4"
      },
      "outputs": [
        {
          "data": {
            "application/vnd.jupyter.widget-view+json": {
              "model_id": "8bca01bafe1347aca534573bab3a0404",
              "version_major": 2,
              "version_minor": 0
            },
            "text/plain": [
              "model.safetensors:   0%|          | 0.00/17.7M [00:00<?, ?B/s]"
            ]
          },
          "metadata": {},
          "output_type": "display_data"
        }
      ],
      "source": [
        "# =============================\n",
        "# STEP 10: Generate Embeddings\n",
        "# =============================\n",
        "\n",
        "# Convert each user's sequence to a fixed-size embedding using TinyBERT\n",
        "\n",
        "user_embeddings = {}\n",
        "\n",
        "for user, seq in user_sequences.items():\n",
        "    inputs = tokenizer(seq, return_tensors='pt', truncation=True, max_length=128)\n",
        "    with torch.no_grad():\n",
        "        outputs = model(**inputs)\n",
        "    embedding = outputs.last_hidden_state.mean(dim=1).squeeze().numpy()\n",
        "    user_embeddings[user] = embedding"
      ]
    },
    {
      "cell_type": "code",
      "execution_count": null,
      "metadata": {
        "id": "C7YhQFXwB5U4"
      },
      "outputs": [],
      "source": [
        "# =============================\n",
        "# STEP 11: Merge Embeddings with Features\n",
        "# =============================\n",
        "\n",
        "# Convert user embeddings into a dataframe and merge with feature set\n",
        "\n",
        "embedding_df = pd.DataFrame.from_dict(user_embeddings, orient='index')\n",
        "embedding_df.reset_index(inplace=True)\n",
        "embedding_df.columns = ['user'] + [f'emb_{i}' for i in range(embedding_df.shape[1]-1)]\n",
        "\n",
        "features_df = features_df.merge(embedding_df, on='user', how='left')\n",
        "features_df = features_df.fillna(0)  # Handle missing users"
      ]
    },
    {
      "cell_type": "code",
      "execution_count": null,
      "metadata": {
        "id": "NETbfBngB55M"
      },
      "outputs": [],
      "source": [
        "# =============================\n",
        "# STEP 12: Federated Boosting Multi-Round Setup\n",
        "# =============================\n",
        "\n",
        "# Simulate 3 clients in a federated setting using data splits\n",
        "\n",
        "num_clients = 3\n",
        "client_dfs = np.array_split(features_df.sample(frac=1, random_state=42), num_clients)\n",
        "\n",
        "client_models = []\n",
        "client_weights = []\n",
        "feature_cols = [col for col in features_df.columns if col not in ['user', 'label']]\n",
        "\n",
        "# LightGBM parameter template for all clients\n",
        "params_template = {\n",
        "    'objective': 'binary',\n",
        "    'metric': 'auc',\n",
        "    'boosting_type': 'gbdt',\n",
        "    'num_leaves': 100,\n",
        "    'learning_rate': 0.02,\n",
        "    'max_depth': 8,\n",
        "    'verbose': -1\n",
        "}\n",
        "\n",
        "num_rounds = 3  # 3-round FedBoost baseline\n",
        "\n",
        "# ---- Initial Client Training ----\n",
        "for i, client_data in enumerate(client_dfs):\n",
        "    print(f\"\\n[Round 1] Training Client {i+1}...\")\n",
        "    X_client = client_data[feature_cols]\n",
        "    y_client = client_data['label']\n",
        "\n",
        "    neg = len(y_client[y_client == 0])\n",
        "    pos = len(y_client[y_client == 1])\n",
        "    scale_pos_weight = (neg / max(1, pos))\n",
        "\n",
        "    params = params_template.copy()\n",
        "    params['scale_pos_weight'] = scale_pos_weight\n",
        "\n",
        "    train_data = lgb.Dataset(X_client, label=y_client)\n",
        "    model = lgb.train(params, train_data, num_boost_round=150)\n",
        "\n",
        "    client_models.append(model)\n",
        "    client_weights.append(len(client_data))\n",
        "    gc.collect()"
      ]
    },
    {
      "cell_type": "code",
      "execution_count": null,
      "metadata": {
        "colab": {
          "background_save": true
        },
        "id": "9boRH0eVCQ4y",
        "outputId": "07964d89-0757-4c3d-f6be-deae80993be9"
      },
      "outputs": [
        {
          "name": "stdout",
          "output_type": "stream",
          "text": [
            "\n",
            "[Round 2] Aggregating & Re-training Clients...\n",
            "\n",
            "[Round 3] Aggregating & Re-training Clients...\n"
          ]
        }
      ],
      "source": [
        "# =============================\n",
        "# STEP 13: Multi-Round Aggregation\n",
        "# =============================\n",
        "\n",
        "# Aggregate client predictions and continue training collaboratively over multiple rounds\n",
        "\n",
        "for round_num in range(2, num_rounds + 1):\n",
        "    print(f\"\\n[Round {round_num}] Aggregating & Re-training Clients...\")\n",
        "\n",
        "    # Aggregate predictions to redistribute knowledge\n",
        "    total_weight = sum(client_weights)\n",
        "    def global_predict_weighted(X):\n",
        "        preds = np.zeros(len(X))\n",
        "        for i, model in enumerate(client_models):\n",
        "            preds += (client_weights[i]/total_weight) * model.predict(X)\n",
        "        return preds\n",
        "\n",
        "    # Redistribute: Continue training\n",
        "    updated_models = []\n",
        "    for i, client_data in enumerate(client_dfs):\n",
        "        X_client = client_data[feature_cols]\n",
        "        y_client = client_data['label']\n",
        "\n",
        "        preds_from_others = global_predict_weighted(X_client)\n",
        "        preds_from_others = np.clip(preds_from_others, 1e-6, 1-1e-6)  # avoid log loss error\n",
        "\n",
        "        # Continue training using previous model + init_score\n",
        "        train_data = lgb.Dataset(X_client, label=y_client, init_score=preds_from_others)\n",
        "        model = lgb.train(params_template, train_data, num_boost_round=100, init_model=client_models[i])\n",
        "        updated_models.append(model)\n",
        "\n",
        "    client_models = copy.deepcopy(updated_models)\n",
        "    gc.collect()"
      ]
    },
    {
      "cell_type": "code",
      "execution_count": null,
      "metadata": {
        "colab": {
          "background_save": true
        },
        "id": "hRMryqvbCTtB",
        "outputId": "0c53ae06-3483-44c7-b893-52ca71c32287"
      },
      "outputs": [
        {
          "name": "stdout",
          "output_type": "stream",
          "text": [
            "\n",
            "ROC-AUC: 0.997035412605588\n",
            "Optimal Threshold: 0.72\n",
            "              precision    recall  f1-score   support\n",
            "\n",
            "           0       0.97      1.00      0.99        76\n",
            "           1       1.00      0.99      1.00       324\n",
            "\n",
            "    accuracy                           0.99       400\n",
            "   macro avg       0.99      1.00      0.99       400\n",
            "weighted avg       1.00      0.99      1.00       400\n",
            "\n"
          ]
        }
      ],
      "source": [
        "# =============================\n",
        "# STEP 14: Global Evaluation + Threshold Tuning\n",
        "# =============================\n",
        "\n",
        "# Evaluate the final global model and apply optimal threshold tuning\n",
        "\n",
        "X = features_df[feature_cols]\n",
        "y = features_df['label']\n",
        "\n",
        "X_train, X_test, y_train, y_test = train_test_split(X, y, test_size=0.2, random_state=42)\n",
        "\n",
        "total_weight = sum(client_weights)\n",
        "def global_predict(X_test):\n",
        "    preds = np.zeros(len(X_test))\n",
        "    for i, model in enumerate(client_models):\n",
        "        preds += (client_weights[i]/total_weight) * model.predict(X_test)\n",
        "    return preds\n",
        "\n",
        "global_preds = global_predict(X_test)\n",
        "print(\"\\nROC-AUC:\", roc_auc_score(y_test, global_preds))\n",
        "\n",
        "# ---- Threshold Optimization ----\n",
        "precision, recall, thresholds = precision_recall_curve(y_test, global_preds)\n",
        "optimal_idx = np.argmax(2 * (precision * recall) / (precision + recall))\n",
        "optimal_threshold = thresholds[optimal_idx]\n",
        "print(f\"Optimal Threshold: {optimal_threshold:.2f}\")\n",
        "\n",
        "# Apply optimized threshold\n",
        "final_preds = (global_preds >= optimal_threshold).astype(int)\n",
        "print(classification_report(y_test, final_preds))"
      ]
    },
    {
      "cell_type": "code",
      "execution_count": null,
      "metadata": {
        "colab": {
          "background_save": true
        },
        "id": "j_5sYWEPgBix",
        "outputId": "e714375d-098c-41bc-8865-0f34e56f2d31"
      },
      "outputs": [
        {
          "data": {
            "image/png": "[encoded data removed]",
            "text/plain": [
              "<Figure size 640x480 with 1 Axes>"
            ]
          },
          "metadata": {},
          "output_type": "display_data"
        }
      ],
      "source": [
        "import matplotlib.pyplot as plt\n",
        "\n",
        "features_df['label'].value_counts().plot(kind='bar', color=['green', 'red'])\n",
        "plt.title(\"User Label Distribution\")\n",
        "plt.xticks(ticks=[0,1], labels=[\"Benign\", \"Malicious\"], rotation=0)\n",
        "plt.ylabel(\"Number of Users\")\n",
        "plt.grid(axis='y')\n",
        "plt.show()"
      ]
    },
    {
      "cell_type": "code",
      "execution_count": null,
      "metadata": {
        "colab": {
          "background_save": true
        },
        "id": "fThkIg5bgCzr",
        "outputId": "8838ce5a-7ab4-4eab-f05b-c65ac6d8a823"
      },
      "outputs": [
        {
          "data": {
            "image/png": "[encoded data removed]",
            "text/plain": [
              "<Figure size 640x480 with 1 Axes>"
            ]
          },
          "metadata": {},
          "output_type": "display_data"
        }
      ],
      "source": [
        "lgb.plot_importance(client_models[0], max_num_features=15, importance_type='gain')\n",
        "plt.title(\"Feature Importance (Client 1 Final Model)\")\n",
        "plt.show()"
      ]
    },
    {
      "cell_type": "code",
      "execution_count": null,
      "metadata": {
        "colab": {
          "background_save": true
        },
        "id": "CfMp7dVKgEvu",
        "outputId": "43a81e99-b8d3-47f1-e6e2-dd79cd86574a"
      },
      "outputs": [
        {
          "data": {
            "image/png": "[encoded data removed]",
            "text/plain": [
              "<Figure size 640x480 with 1 Axes>"
            ]
          },
          "metadata": {},
          "output_type": "display_data"
        }
      ],
      "source": [
        "from sklearn.metrics import roc_curve, auc\n",
        "\n",
        "fpr, tpr, _ = roc_curve(y_test, global_preds)\n",
        "roc_auc = auc(fpr, tpr)\n",
        "\n",
        "plt.plot(fpr, tpr, label=f\"ROC Curve (AUC = {roc_auc:.3f})\")\n",
        "plt.plot([0, 1], [0, 1], 'k--', lw=1)\n",
        "plt.xlabel(\"False Positive Rate\")\n",
        "plt.ylabel(\"True Positive Rate\")\n",
        "plt.title(\"Global ROC Curve\")\n",
        "plt.legend()\n",
        "plt.grid(True)\n",
        "plt.show()"
      ]
    },
    {
      "cell_type": "code",
      "execution_count": null,
      "metadata": {
        "colab": {
          "background_save": true
        },
        "id": "eI_HTlbugIP7",
        "outputId": "6253fdf4-6362-4b71-d6af-47e51ebda6ff"
      },
      "outputs": [
        {
          "data": {
            "image/png": "[encoded data removed]",
            "text/plain": [
              "<Figure size 640x480 with 1 Axes>"
            ]
          },
          "metadata": {},
          "output_type": "display_data"
        }
      ],
      "source": [
        "plt.plot(recall, precision, marker='.')\n",
        "plt.title(\"Precision-Recall Curve\")\n",
        "plt.xlabel(\"Recall\")\n",
        "plt.ylabel(\"Precision\")\n",
        "plt.grid(True)\n",
        "plt.show()"
      ]
    },
    {
      "cell_type": "code",
      "execution_count": null,
      "metadata": {
        "colab": {
          "background_save": true
        },
        "id": "l14WwsfMgKeG",
        "outputId": "b768252a-baca-486a-a698-1dfabdb79359"
      },
      "outputs": [
        {
          "data": {
            "image/png": "[encoded data removed]",
            "text/plain": [
              "<Figure size 640x480 with 1 Axes>"
            ]
          },
          "metadata": {},
          "output_type": "display_data"
        }
      ],
      "source": [
        "f1_scores = 2 * (precision * recall) / (precision + recall + 1e-6)\n",
        "plt.plot(thresholds, f1_scores[:-1])\n",
        "plt.axvline(optimal_threshold, color='red', linestyle='--', label=f'Optimal Threshold = {optimal_threshold:.2f}')\n",
        "plt.title(\"F1 Score vs Threshold\")\n",
        "plt.xlabel(\"Threshold\")\n",
        "plt.ylabel(\"F1 Score\")\n",
        "plt.legend()\n",
        "plt.grid(True)\n",
        "plt.show()"
      ]
    },
    {
      "cell_type": "code",
      "execution_count": null,
      "metadata": {
        "colab": {
          "background_save": true
        },
        "id": "KgNa5Pl5gMuH",
        "outputId": "9fc474a3-33c9-4a7b-c04b-736b9a91c208"
      },
      "outputs": [
        {
          "data": {
            "image/png": "[encoded data removed]",
            "text/plain": [
              "<Figure size 640x480 with 2 Axes>"
            ]
          },
          "metadata": {},
          "output_type": "display_data"
        }
      ],
      "source": [
        "from sklearn.metrics import confusion_matrix, ConfusionMatrixDisplay\n",
        "\n",
        "cm = confusion_matrix(y_test, final_preds)\n",
        "disp = ConfusionMatrixDisplay(confusion_matrix=cm, display_labels=[\"Benign\", \"Malicious\"])\n",
        "disp.plot(cmap='Blues')\n",
        "plt.title(\"Final Confusion Matrix\")\n",
        "plt.grid(False)\n",
        "plt.show()"
      ]
    },
    {
      "cell_type": "code",
      "execution_count": null,
      "metadata": {
        "colab": {
          "background_save": true
        },
        "id": "SqlSqhD0hv95",
        "outputId": "cb03c577-0561-40c1-f5ca-791f3f37c95a"
      },
      "outputs": [
        {
          "name": "stdout",
          "output_type": "stream",
          "text": [
            "Matthews Corrcoef: 0.9840449241720914\n",
            "Balanced Accuracy: 0.9969135802469136\n",
            "Cohen’s Kappa: 0.9839176584110646\n",
            "Brier Score: 0.07633031722518918\n",
            "Log Loss: 0.22122455634708935\n"
          ]
        }
      ],
      "source": [
        "from sklearn.metrics import matthews_corrcoef, balanced_accuracy_score, cohen_kappa_score, brier_score_loss, log_loss\n",
        "\n",
        "print(\"Matthews Corrcoef:\", matthews_corrcoef(y_test, final_preds))\n",
        "print(\"Balanced Accuracy:\", balanced_accuracy_score(y_test, final_preds))\n",
        "print(\"Cohen’s Kappa:\", cohen_kappa_score(y_test, final_preds))\n",
        "print(\"Brier Score:\", brier_score_loss(y_test, global_preds))\n",
        "print(\"Log Loss:\", log_loss(y_test, global_preds))"
      ]
    },
    {
      "cell_type": "code",
      "execution_count": null,
      "metadata": {
        "colab": {
          "background_save": true
        },
        "id": "5wAGri5vJEG8",
        "outputId": "6660278c-645b-48c6-e8e9-ccc25f8313a9"
      },
      "outputs": [
        {
          "name": "stdout",
          "output_type": "stream",
          "text": [
            "\n",
            "[Client 1]\n",
            "Precision: 1.0\n",
            "Recall: 1.0\n",
            "F1 Score: 1.0\n",
            "\n",
            "[Client 2]\n",
            "Precision: 1.0\n",
            "Recall: 1.0\n",
            "F1 Score: 1.0\n",
            "\n",
            "[Client 3]\n",
            "Precision: 1.0\n",
            "Recall: 1.0\n",
            "F1 Score: 1.0\n"
          ]
        }
      ],
      "source": [
        "from sklearn.metrics import precision_score, recall_score, f1_score\n",
        "\n",
        "for i, client_data in enumerate(client_dfs):\n",
        "    X_client = client_data[feature_cols]\n",
        "    y_client = client_data['label']\n",
        "    preds = client_models[i].predict(X_client)\n",
        "    pred_labels = (preds >= optimal_threshold).astype(int)\n",
        "\n",
        "    print(f\"\\n[Client {i+1}]\")\n",
        "    print(\"Precision:\", precision_score(y_client, pred_labels))\n",
        "    print(\"Recall:\", recall_score(y_client, pred_labels))\n",
        "    print(\"F1 Score:\", f1_score(y_client, pred_labels))"
      ]
    },
    {
      "cell_type": "code",
      "execution_count": null,
      "metadata": {
        "colab": {
          "background_save": true
        },
        "id": "vm2DIs97JGB_",
        "outputId": "53fab30d-490d-43d1-f06f-211bccf2c2f0"
      },
      "outputs": [
        {
          "data": {
            "image/png": "[encoded data removed]",
            "text/plain": [
              "<Figure size 640x480 with 1 Axes>"
            ]
          },
          "metadata": {},
          "output_type": "display_data"
        }
      ],
      "source": [
        "client_contribution = [w/sum(client_weights) for w in client_weights]\n",
        "plt.bar(range(1, len(client_weights)+1), client_contribution)\n",
        "plt.xlabel(\"Client\")\n",
        "plt.ylabel(\"Contribution to Global Model\")\n",
        "plt.title(\"Client-wise Contribution in Federated Aggregation\")\n",
        "plt.grid(True)\n",
        "plt.show()"
      ]
    },
    {
      "cell_type": "code",
      "execution_count": null,
      "metadata": {
        "colab": {
          "background_save": true
        },
        "id": "9Ph5TM0tJIAG",
        "outputId": "76a2bf74-d29e-455f-b1a3-e2ac0410eeb1"
      },
      "outputs": [
        {
          "name": "stdout",
          "output_type": "stream",
          "text": [
            "Centralized AUC: 0.6885964912280702\n",
            "Federated AUC: 0.997035412605588\n"
          ]
        }
      ],
      "source": [
        "baseline_model = lgb.train(params_template, lgb.Dataset(X_train, label=y_train), num_boost_round=150)\n",
        "baseline_preds = baseline_model.predict(X_test)\n",
        "\n",
        "# Compare ROC-AUC\n",
        "from sklearn.metrics import roc_auc_score\n",
        "print(\"Centralized AUC:\", roc_auc_score(y_test, baseline_preds))\n",
        "print(\"Federated AUC:\", roc_auc_score(y_test, global_preds))"
      ]
    },
    {
      "cell_type": "code",
      "execution_count": null,
      "metadata": {
        "colab": {
          "background_save": true
        },
        "id": "94G1hs2jJKHx",
        "outputId": "02772807-b1e7-4458-d494-148e4368e7f1"
      },
      "outputs": [
        {
          "data": {
            "image/png": "[encoded data removed]",
            "text/plain": [
              "<Figure size 640x480 with 1 Axes>"
            ]
          },
          "metadata": {},
          "output_type": "display_data"
        }
      ],
      "source": [
        "auc_vals = [roc_auc_score(y_test, baseline_preds), roc_auc_score(y_test, global_preds)]\n",
        "labels = ['Centralized', 'Federated']\n",
        "plt.bar(labels, auc_vals)\n",
        "plt.title(\"ROC-AUC Comparison\")\n",
        "plt.ylabel(\"AUC Score\")\n",
        "plt.ylim(0.95, 1.01)\n",
        "plt.grid(True)\n",
        "plt.show()"
      ]
    },
    {
      "cell_type": "code",
      "execution_count": null,
      "metadata": {
        "colab": {
          "background_save": true
        },
        "id": "b2qqKheQJLyz",
        "outputId": "3bb4bff9-2076-4b38-eed9-8528d3d5a01e"
      },
      "outputs": [
        {
          "name": "stdout",
          "output_type": "stream",
          "text": [
            "McNemar Test p-value: 5.917714592428801e-10\n"
          ]
        }
      ],
      "source": [
        "from statsmodels.stats.contingency_tables import mcnemar\n",
        "\n",
        "baseline_labels = (baseline_preds >= optimal_threshold).astype(int)\n",
        "\n",
        "# Confusion matrix for McNemar\n",
        "tb = pd.crosstab(final_preds, baseline_labels)\n",
        "result = mcnemar(tb, exact=True)\n",
        "print('McNemar Test p-value:', result.pvalue)"
      ]
    }
  ],
  "metadata": {
    "colab": {
      "provenance": []
    },
    "kernelspec": {
      "display_name": "Python 3",
      "name": "python3"
    },
    "language_info": {
      "name": "python"
    },
    "widgets": {
      "application/vnd.jupyter.widget-state+json": {
        "0f34429dc38a4154a361757af68ec397": {
          "model_module": "@jupyter-widgets/controls",
          "model_module_version": "1.5.0",
          "model_name": "DescriptionStyleModel",
          "state": {
            "_model_module": "@jupyter-widgets/controls",
            "_model_module_version": "1.5.0",
            "_model_name": "DescriptionStyleModel",
            "_view_count": null,
            "_view_module": "@jupyter-widgets/base",
            "_view_module_version": "1.2.0",
            "_view_name": "StyleView",
            "description_width": ""
          }
        },
        "11643e0e5dba40939e3970ff7ba94e2f": {
          "model_module": "@jupyter-widgets/controls",
          "model_module_version": "1.5.0",
          "model_name": "FloatProgressModel",
          "state": {
            "_dom_classes": [],
            "_model_module": "@jupyter-widgets/controls",
            "_model_module_version": "1.5.0",
            "_model_name": "FloatProgressModel",
            "_view_count": null,
            "_view_module": "@jupyter-widgets/controls",
            "_view_module_version": "1.5.0",
            "_view_name": "ProgressView",
            "bar_style": "success",
            "description": "",
            "description_tooltip": null,
            "layout": "IPY_MODEL_99e8536f74f447aebcd9f57652e3d425",
            "max": 17743328,
            "min": 0,
            "orientation": "horizontal",
            "style": "IPY_MODEL_4a212efda8cf4842b72efc2a36ee3b28",
            "value": 17743328
          }
        },
        "1af1dc030bc646e9a4b96c453656f9fe": {
          "model_module": "@jupyter-widgets/controls",
          "model_module_version": "1.5.0",
          "model_name": "HBoxModel",
          "state": {
            "_dom_classes": [],
            "_model_module": "@jupyter-widgets/controls",
            "_model_module_version": "1.5.0",
            "_model_name": "HBoxModel",
            "_view_count": null,
            "_view_module": "@jupyter-widgets/controls",
            "_view_module_version": "1.5.0",
            "_view_name": "HBoxView",
            "box_style": "",
            "children": [
              "IPY_MODEL_c8d6001753d04981bd171d554ab260f5",
              "IPY_MODEL_72c8594e349848fe9f800bb979eb950b",
              "IPY_MODEL_c156748fb0e5478885cdc78c03064c2a"
            ],
            "layout": "IPY_MODEL_7d711bd8bea546c2b5c0078775bb79a6"
          }
        },
        "299f59acadf54d33979993fea05c8d11": {
          "model_module": "@jupyter-widgets/controls",
          "model_module_version": "1.5.0",
          "model_name": "HBoxModel",
          "state": {
            "_dom_classes": [],
            "_model_module": "@jupyter-widgets/controls",
            "_model_module_version": "1.5.0",
            "_model_name": "HBoxModel",
            "_view_count": null,
            "_view_module": "@jupyter-widgets/controls",
            "_view_module_version": "1.5.0",
            "_view_name": "HBoxView",
            "box_style": "",
            "children": [
              "IPY_MODEL_8ae2edf522f54769b2ec9bb5fc22fab1",
              "IPY_MODEL_acd7ea4fcce9451ca64ee8cd0d487d06",
              "IPY_MODEL_e7eb3ae99ea540d8ace5fafb8636d0e2"
            ],
            "layout": "IPY_MODEL_4883c5f9ef7f49b4b8b3bf5c0a7a01ee"
          }
        },
        "307baa92cc3447a19f3dcbaee634afa2": {
          "model_module": "@jupyter-widgets/controls",
          "model_module_version": "1.5.0",
          "model_name": "DescriptionStyleModel",
          "state": {
            "_model_module": "@jupyter-widgets/controls",
            "_model_module_version": "1.5.0",
            "_model_name": "DescriptionStyleModel",
            "_view_count": null,
            "_view_module": "@jupyter-widgets/base",
            "_view_module_version": "1.2.0",
            "_view_name": "StyleView",
            "description_width": ""
          }
        },
        "36a4613486f740c6b580db27a61550c3": {
          "model_module": "@jupyter-widgets/base",
          "model_module_version": "1.2.0",
          "model_name": "LayoutModel",
          "state": {
            "_model_module": "@jupyter-widgets/base",
            "_model_module_version": "1.2.0",
            "_model_name": "LayoutModel",
            "_view_count": null,
            "_view_module": "@jupyter-widgets/base",
            "_view_module_version": "1.2.0",
            "_view_name": "LayoutView",
            "align_content": null,
            "align_items": null,
            "align_self": null,
            "border": null,
            "bottom": null,
            "display": null,
            "flex": null,
            "flex_flow": null,
            "grid_area": null,
            "grid_auto_columns": null,
            "grid_auto_flow": null,
            "grid_auto_rows": null,
            "grid_column": null,
            "grid_gap": null,
            "grid_row": null,
            "grid_template_areas": null,
            "grid_template_columns": null,
            "grid_template_rows": null,
            "height": null,
            "justify_content": null,
            "justify_items": null,
            "left": null,
            "margin": null,
            "max_height": null,
            "max_width": null,
            "min_height": null,
            "min_width": null,
            "object_fit": null,
            "object_position": null,
            "order": null,
            "overflow": null,
            "overflow_x": null,
            "overflow_y": null,
            "padding": null,
            "right": null,
            "top": null,
            "visibility": null,
            "width": null
          }
        },
        "3c67728006834d418058d4137d9627f4": {
          "model_module": "@jupyter-widgets/base",
          "model_module_version": "1.2.0",
          "model_name": "LayoutModel",
          "state": {
            "_model_module": "@jupyter-widgets/base",
            "_model_module_version": "1.2.0",
            "_model_name": "LayoutModel",
            "_view_count": null,
            "_view_module": "@jupyter-widgets/base",
            "_view_module_version": "1.2.0",
            "_view_name": "LayoutView",
            "align_content": null,
            "align_items": null,
            "align_self": null,
            "border": null,
            "bottom": null,
            "display": null,
            "flex": null,
            "flex_flow": null,
            "grid_area": null,
            "grid_auto_columns": null,
            "grid_auto_flow": null,
            "grid_auto_rows": null,
            "grid_column": null,
            "grid_gap": null,
            "grid_row": null,
            "grid_template_areas": null,
            "grid_template_columns": null,
            "grid_template_rows": null,
            "height": null,
            "justify_content": null,
            "justify_items": null,
            "left": null,
            "margin": null,
            "max_height": null,
            "max_width": null,
            "min_height": null,
            "min_width": null,
            "object_fit": null,
            "object_position": null,
            "order": null,
            "overflow": null,
            "overflow_x": null,
            "overflow_y": null,
            "padding": null,
            "right": null,
            "top": null,
            "visibility": null,
            "width": null
          }
        },
        "4883c5f9ef7f49b4b8b3bf5c0a7a01ee": {
          "model_module": "@jupyter-widgets/base",
          "model_module_version": "1.2.0",
          "model_name": "LayoutModel",
          "state": {
            "_model_module": "@jupyter-widgets/base",
            "_model_module_version": "1.2.0",
            "_model_name": "LayoutModel",
            "_view_count": null,
            "_view_module": "@jupyter-widgets/base",
            "_view_module_version": "1.2.0",
            "_view_name": "LayoutView",
            "align_content": null,
            "align_items": null,
            "align_self": null,
            "border": null,
            "bottom": null,
            "display": null,
            "flex": null,
            "flex_flow": null,
            "grid_area": null,
            "grid_auto_columns": null,
            "grid_auto_flow": null,
            "grid_auto_rows": null,
            "grid_column": null,
            "grid_gap": null,
            "grid_row": null,
            "grid_template_areas": null,
            "grid_template_columns": null,
            "grid_template_rows": null,
            "height": null,
            "justify_content": null,
            "justify_items": null,
            "left": null,
            "margin": null,
            "max_height": null,
            "max_width": null,
            "min_height": null,
            "min_width": null,
            "object_fit": null,
            "object_position": null,
            "order": null,
            "overflow": null,
            "overflow_x": null,
            "overflow_y": null,
            "padding": null,
            "right": null,
            "top": null,
            "visibility": null,
            "width": null
          }
        },
        "48aebdc8523d4c01b7017a0345f87fd3": {
          "model_module": "@jupyter-widgets/base",
          "model_module_version": "1.2.0",
          "model_name": "LayoutModel",
          "state": {
            "_model_module": "@jupyter-widgets/base",
            "_model_module_version": "1.2.0",
            "_model_name": "LayoutModel",
            "_view_count": null,
            "_view_module": "@jupyter-widgets/base",
            "_view_module_version": "1.2.0",
            "_view_name": "LayoutView",
            "align_content": null,
            "align_items": null,
            "align_self": null,
            "border": null,
            "bottom": null,
            "display": null,
            "flex": null,
            "flex_flow": null,
            "grid_area": null,
            "grid_auto_columns": null,
            "grid_auto_flow": null,
            "grid_auto_rows": null,
            "grid_column": null,
            "grid_gap": null,
            "grid_row": null,
            "grid_template_areas": null,
            "grid_template_columns": null,
            "grid_template_rows": null,
            "height": null,
            "justify_content": null,
            "justify_items": null,
            "left": null,
            "margin": null,
            "max_height": null,
            "max_width": null,
            "min_height": null,
            "min_width": null,
            "object_fit": null,
            "object_position": null,
            "order": null,
            "overflow": null,
            "overflow_x": null,
            "overflow_y": null,
            "padding": null,
            "right": null,
            "top": null,
            "visibility": null,
            "width": null
          }
        },
        "49d7466888e846309a5df3ae587ae2a9": {
          "model_module": "@jupyter-widgets/base",
          "model_module_version": "1.2.0",
          "model_name": "LayoutModel",
          "state": {
            "_model_module": "@jupyter-widgets/base",
            "_model_module_version": "1.2.0",
            "_model_name": "LayoutModel",
            "_view_count": null,
            "_view_module": "@jupyter-widgets/base",
            "_view_module_version": "1.2.0",
            "_view_name": "LayoutView",
            "align_content": null,
            "align_items": null,
            "align_self": null,
            "border": null,
            "bottom": null,
            "display": null,
            "flex": null,
            "flex_flow": null,
            "grid_area": null,
            "grid_auto_columns": null,
            "grid_auto_flow": null,
            "grid_auto_rows": null,
            "grid_column": null,
            "grid_gap": null,
            "grid_row": null,
            "grid_template_areas": null,
            "grid_template_columns": null,
            "grid_template_rows": null,
            "height": null,
            "justify_content": null,
            "justify_items": null,
            "left": null,
            "margin": null,
            "max_height": null,
            "max_width": null,
            "min_height": null,
            "min_width": null,
            "object_fit": null,
            "object_position": null,
            "order": null,
            "overflow": null,
            "overflow_x": null,
            "overflow_y": null,
            "padding": null,
            "right": null,
            "top": null,
            "visibility": null,
            "width": null
          }
        },
        "4a212efda8cf4842b72efc2a36ee3b28": {
          "model_module": "@jupyter-widgets/controls",
          "model_module_version": "1.5.0",
          "model_name": "ProgressStyleModel",
          "state": {
            "_model_module": "@jupyter-widgets/controls",
            "_model_module_version": "1.5.0",
            "_model_name": "ProgressStyleModel",
            "_view_count": null,
            "_view_module": "@jupyter-widgets/base",
            "_view_module_version": "1.2.0",
            "_view_name": "StyleView",
            "bar_color": null,
            "description_width": ""
          }
        },
        "4aa3a5b2f79a4a1899c7f777f7b7d6e7": {
          "model_module": "@jupyter-widgets/controls",
          "model_module_version": "1.5.0",
          "model_name": "FloatProgressModel",
          "state": {
            "_dom_classes": [],
            "_model_module": "@jupyter-widgets/controls",
            "_model_module_version": "1.5.0",
            "_model_name": "FloatProgressModel",
            "_view_count": null,
            "_view_module": "@jupyter-widgets/controls",
            "_view_module_version": "1.5.0",
            "_view_name": "ProgressView",
            "bar_style": "success",
            "description": "",
            "description_tooltip": null,
            "layout": "IPY_MODEL_bb12bfa770dd4f74a91af76bc0ee5cb9",
            "max": 231508,
            "min": 0,
            "orientation": "horizontal",
            "style": "IPY_MODEL_8598cc965f844c748a945a86584242b3",
            "value": 231508
          }
        },
        "50f5d447d15142b9947cb82c4ee3b165": {
          "model_module": "@jupyter-widgets/controls",
          "model_module_version": "1.5.0",
          "model_name": "DescriptionStyleModel",
          "state": {
            "_model_module": "@jupyter-widgets/controls",
            "_model_module_version": "1.5.0",
            "_model_name": "DescriptionStyleModel",
            "_view_count": null,
            "_view_module": "@jupyter-widgets/base",
            "_view_module_version": "1.2.0",
            "_view_name": "StyleView",
            "description_width": ""
          }
        },
        "53e20ebbfa9d41709e42cdf87dc51aa4": {
          "model_module": "@jupyter-widgets/base",
          "model_module_version": "1.2.0",
          "model_name": "LayoutModel",
          "state": {
            "_model_module": "@jupyter-widgets/base",
            "_model_module_version": "1.2.0",
            "_model_name": "LayoutModel",
            "_view_count": null,
            "_view_module": "@jupyter-widgets/base",
            "_view_module_version": "1.2.0",
            "_view_name": "LayoutView",
            "align_content": null,
            "align_items": null,
            "align_self": null,
            "border": null,
            "bottom": null,
            "display": null,
            "flex": null,
            "flex_flow": null,
            "grid_area": null,
            "grid_auto_columns": null,
            "grid_auto_flow": null,
            "grid_auto_rows": null,
            "grid_column": null,
            "grid_gap": null,
            "grid_row": null,
            "grid_template_areas": null,
            "grid_template_columns": null,
            "grid_template_rows": null,
            "height": null,
            "justify_content": null,
            "justify_items": null,
            "left": null,
            "margin": null,
            "max_height": null,
            "max_width": null,
            "min_height": null,
            "min_width": null,
            "object_fit": null,
            "object_position": null,
            "order": null,
            "overflow": null,
            "overflow_x": null,
            "overflow_y": null,
            "padding": null,
            "right": null,
            "top": null,
            "visibility": null,
            "width": null
          }
        },
        "54d4de0af2d7441684bddfff7fd9cd62": {
          "model_module": "@jupyter-widgets/controls",
          "model_module_version": "1.5.0",
          "model_name": "DescriptionStyleModel",
          "state": {
            "_model_module": "@jupyter-widgets/controls",
            "_model_module_version": "1.5.0",
            "_model_name": "DescriptionStyleModel",
            "_view_count": null,
            "_view_module": "@jupyter-widgets/base",
            "_view_module_version": "1.2.0",
            "_view_name": "StyleView",
            "description_width": ""
          }
        },
        "557f7dd122c940b1b0cb0f2b83b25fe1": {
          "model_module": "@jupyter-widgets/base",
          "model_module_version": "1.2.0",
          "model_name": "LayoutModel",
          "state": {
            "_model_module": "@jupyter-widgets/base",
            "_model_module_version": "1.2.0",
            "_model_name": "LayoutModel",
            "_view_count": null,
            "_view_module": "@jupyter-widgets/base",
            "_view_module_version": "1.2.0",
            "_view_name": "LayoutView",
            "align_content": null,
            "align_items": null,
            "align_self": null,
            "border": null,
            "bottom": null,
            "display": null,
            "flex": null,
            "flex_flow": null,
            "grid_area": null,
            "grid_auto_columns": null,
            "grid_auto_flow": null,
            "grid_auto_rows": null,
            "grid_column": null,
            "grid_gap": null,
            "grid_row": null,
            "grid_template_areas": null,
            "grid_template_columns": null,
            "grid_template_rows": null,
            "height": null,
            "justify_content": null,
            "justify_items": null,
            "left": null,
            "margin": null,
            "max_height": null,
            "max_width": null,
            "min_height": null,
            "min_width": null,
            "object_fit": null,
            "object_position": null,
            "order": null,
            "overflow": null,
            "overflow_x": null,
            "overflow_y": null,
            "padding": null,
            "right": null,
            "top": null,
            "visibility": null,
            "width": null
          }
        },
        "65f754df152e41dda2b47f48646a2c15": {
          "model_module": "@jupyter-widgets/base",
          "model_module_version": "1.2.0",
          "model_name": "LayoutModel",
          "state": {
            "_model_module": "@jupyter-widgets/base",
            "_model_module_version": "1.2.0",
            "_model_name": "LayoutModel",
            "_view_count": null,
            "_view_module": "@jupyter-widgets/base",
            "_view_module_version": "1.2.0",
            "_view_name": "LayoutView",
            "align_content": null,
            "align_items": null,
            "align_self": null,
            "border": null,
            "bottom": null,
            "display": null,
            "flex": null,
            "flex_flow": null,
            "grid_area": null,
            "grid_auto_columns": null,
            "grid_auto_flow": null,
            "grid_auto_rows": null,
            "grid_column": null,
            "grid_gap": null,
            "grid_row": null,
            "grid_template_areas": null,
            "grid_template_columns": null,
            "grid_template_rows": null,
            "height": null,
            "justify_content": null,
            "justify_items": null,
            "left": null,
            "margin": null,
            "max_height": null,
            "max_width": null,
            "min_height": null,
            "min_width": null,
            "object_fit": null,
            "object_position": null,
            "order": null,
            "overflow": null,
            "overflow_x": null,
            "overflow_y": null,
            "padding": null,
            "right": null,
            "top": null,
            "visibility": null,
            "width": null
          }
        },
        "6b315f0f5dc24998a7f1bf5ef19c7d2a": {
          "model_module": "@jupyter-widgets/controls",
          "model_module_version": "1.5.0",
          "model_name": "HTMLModel",
          "state": {
            "_dom_classes": [],
            "_model_module": "@jupyter-widgets/controls",
            "_model_module_version": "1.5.0",
            "_model_name": "HTMLModel",
            "_view_count": null,
            "_view_module": "@jupyter-widgets/controls",
            "_view_module_version": "1.5.0",
            "_view_name": "HTMLView",
            "description": "",
            "description_tooltip": null,
            "layout": "IPY_MODEL_6e6ae4c7325b49a4a057cb2cfad9cd90",
            "placeholder": "​",
            "style": "IPY_MODEL_0f34429dc38a4154a361757af68ec397",
            "value": " 232k/232k [00:00&lt;00:00, 4.18MB/s]"
          }
        },
        "6c6c65aaffa04d4d8106fb8954292aa9": {
          "model_module": "@jupyter-widgets/base",
          "model_module_version": "1.2.0",
          "model_name": "LayoutModel",
          "state": {
            "_model_module": "@jupyter-widgets/base",
            "_model_module_version": "1.2.0",
            "_model_name": "LayoutModel",
            "_view_count": null,
            "_view_module": "@jupyter-widgets/base",
            "_view_module_version": "1.2.0",
            "_view_name": "LayoutView",
            "align_content": null,
            "align_items": null,
            "align_self": null,
            "border": null,
            "bottom": null,
            "display": null,
            "flex": null,
            "flex_flow": null,
            "grid_area": null,
            "grid_auto_columns": null,
            "grid_auto_flow": null,
            "grid_auto_rows": null,
            "grid_column": null,
            "grid_gap": null,
            "grid_row": null,
            "grid_template_areas": null,
            "grid_template_columns": null,
            "grid_template_rows": null,
            "height": null,
            "justify_content": null,
            "justify_items": null,
            "left": null,
            "margin": null,
            "max_height": null,
            "max_width": null,
            "min_height": null,
            "min_width": null,
            "object_fit": null,
            "object_position": null,
            "order": null,
            "overflow": null,
            "overflow_x": null,
            "overflow_y": null,
            "padding": null,
            "right": null,
            "top": null,
            "visibility": null,
            "width": null
          }
        },
        "6d50b7cb361f43d09c64795f953e58ea": {
          "model_module": "@jupyter-widgets/controls",
          "model_module_version": "1.5.0",
          "model_name": "ProgressStyleModel",
          "state": {
            "_model_module": "@jupyter-widgets/controls",
            "_model_module_version": "1.5.0",
            "_model_name": "ProgressStyleModel",
            "_view_count": null,
            "_view_module": "@jupyter-widgets/base",
            "_view_module_version": "1.2.0",
            "_view_name": "StyleView",
            "bar_color": null,
            "description_width": ""
          }
        },
        "6e6ae4c7325b49a4a057cb2cfad9cd90": {
          "model_module": "@jupyter-widgets/base",
          "model_module_version": "1.2.0",
          "model_name": "LayoutModel",
          "state": {
            "_model_module": "@jupyter-widgets/base",
            "_model_module_version": "1.2.0",
            "_model_name": "LayoutModel",
            "_view_count": null,
            "_view_module": "@jupyter-widgets/base",
            "_view_module_version": "1.2.0",
            "_view_name": "LayoutView",
            "align_content": null,
            "align_items": null,
            "align_self": null,
            "border": null,
            "bottom": null,
            "display": null,
            "flex": null,
            "flex_flow": null,
            "grid_area": null,
            "grid_auto_columns": null,
            "grid_auto_flow": null,
            "grid_auto_rows": null,
            "grid_column": null,
            "grid_gap": null,
            "grid_row": null,
            "grid_template_areas": null,
            "grid_template_columns": null,
            "grid_template_rows": null,
            "height": null,
            "justify_content": null,
            "justify_items": null,
            "left": null,
            "margin": null,
            "max_height": null,
            "max_width": null,
            "min_height": null,
            "min_width": null,
            "object_fit": null,
            "object_position": null,
            "order": null,
            "overflow": null,
            "overflow_x": null,
            "overflow_y": null,
            "padding": null,
            "right": null,
            "top": null,
            "visibility": null,
            "width": null
          }
        },
        "72c8594e349848fe9f800bb979eb950b": {
          "model_module": "@jupyter-widgets/controls",
          "model_module_version": "1.5.0",
          "model_name": "FloatProgressModel",
          "state": {
            "_dom_classes": [],
            "_model_module": "@jupyter-widgets/controls",
            "_model_module_version": "1.5.0",
            "_model_name": "FloatProgressModel",
            "_view_count": null,
            "_view_module": "@jupyter-widgets/controls",
            "_view_module_version": "1.5.0",
            "_view_name": "ProgressView",
            "bar_style": "success",
            "description": "",
            "description_tooltip": null,
            "layout": "IPY_MODEL_53e20ebbfa9d41709e42cdf87dc51aa4",
            "max": 17756393,
            "min": 0,
            "orientation": "horizontal",
            "style": "IPY_MODEL_b94b2b95b95747e0bd3f907f8652c02d",
            "value": 17756393
          }
        },
        "7d711bd8bea546c2b5c0078775bb79a6": {
          "model_module": "@jupyter-widgets/base",
          "model_module_version": "1.2.0",
          "model_name": "LayoutModel",
          "state": {
            "_model_module": "@jupyter-widgets/base",
            "_model_module_version": "1.2.0",
            "_model_name": "LayoutModel",
            "_view_count": null,
            "_view_module": "@jupyter-widgets/base",
            "_view_module_version": "1.2.0",
            "_view_name": "LayoutView",
            "align_content": null,
            "align_items": null,
            "align_self": null,
            "border": null,
            "bottom": null,
            "display": null,
            "flex": null,
            "flex_flow": null,
            "grid_area": null,
            "grid_auto_columns": null,
            "grid_auto_flow": null,
            "grid_auto_rows": null,
            "grid_column": null,
            "grid_gap": null,
            "grid_row": null,
            "grid_template_areas": null,
            "grid_template_columns": null,
            "grid_template_rows": null,
            "height": null,
            "justify_content": null,
            "justify_items": null,
            "left": null,
            "margin": null,
            "max_height": null,
            "max_width": null,
            "min_height": null,
            "min_width": null,
            "object_fit": null,
            "object_position": null,
            "order": null,
            "overflow": null,
            "overflow_x": null,
            "overflow_y": null,
            "padding": null,
            "right": null,
            "top": null,
            "visibility": null,
            "width": null
          }
        },
        "8456f1a85e4244c084b832690edc5a04": {
          "model_module": "@jupyter-widgets/controls",
          "model_module_version": "1.5.0",
          "model_name": "HTMLModel",
          "state": {
            "_dom_classes": [],
            "_model_module": "@jupyter-widgets/controls",
            "_model_module_version": "1.5.0",
            "_model_name": "HTMLModel",
            "_view_count": null,
            "_view_module": "@jupyter-widgets/controls",
            "_view_module_version": "1.5.0",
            "_view_name": "HTMLView",
            "description": "",
            "description_tooltip": null,
            "layout": "IPY_MODEL_a799386305f74117a2f350b872c1fd13",
            "placeholder": "​",
            "style": "IPY_MODEL_e0d8bad8bd0440cea89bbd9da4755b0a",
            "value": "vocab.txt: 100%"
          }
        },
        "8598cc965f844c748a945a86584242b3": {
          "model_module": "@jupyter-widgets/controls",
          "model_module_version": "1.5.0",
          "model_name": "ProgressStyleModel",
          "state": {
            "_model_module": "@jupyter-widgets/controls",
            "_model_module_version": "1.5.0",
            "_model_name": "ProgressStyleModel",
            "_view_count": null,
            "_view_module": "@jupyter-widgets/base",
            "_view_module_version": "1.2.0",
            "_view_name": "StyleView",
            "bar_color": null,
            "description_width": ""
          }
        },
        "86bdb2b6d7944a759061a1c2027e5f66": {
          "model_module": "@jupyter-widgets/controls",
          "model_module_version": "1.5.0",
          "model_name": "HTMLModel",
          "state": {
            "_dom_classes": [],
            "_model_module": "@jupyter-widgets/controls",
            "_model_module_version": "1.5.0",
            "_model_name": "HTMLModel",
            "_view_count": null,
            "_view_module": "@jupyter-widgets/controls",
            "_view_module_version": "1.5.0",
            "_view_name": "HTMLView",
            "description": "",
            "description_tooltip": null,
            "layout": "IPY_MODEL_65f754df152e41dda2b47f48646a2c15",
            "placeholder": "​",
            "style": "IPY_MODEL_50f5d447d15142b9947cb82c4ee3b165",
            "value": "model.safetensors: 100%"
          }
        },
        "894072a6959440809f59a34bf12217f3": {
          "model_module": "@jupyter-widgets/controls",
          "model_module_version": "1.5.0",
          "model_name": "HTMLModel",
          "state": {
            "_dom_classes": [],
            "_model_module": "@jupyter-widgets/controls",
            "_model_module_version": "1.5.0",
            "_model_name": "HTMLModel",
            "_view_count": null,
            "_view_module": "@jupyter-widgets/controls",
            "_view_module_version": "1.5.0",
            "_view_name": "HTMLView",
            "description": "",
            "description_tooltip": null,
            "layout": "IPY_MODEL_8c0c3ed4191f4e5599a5963c1bdee943",
            "placeholder": "​",
            "style": "IPY_MODEL_f5fc6fb64d4e4f97a4895a34a87f85d8",
            "value": " 17.7M/17.7M [00:00&lt;00:00, 81.1MB/s]"
          }
        },
        "8ae2edf522f54769b2ec9bb5fc22fab1": {
          "model_module": "@jupyter-widgets/controls",
          "model_module_version": "1.5.0",
          "model_name": "HTMLModel",
          "state": {
            "_dom_classes": [],
            "_model_module": "@jupyter-widgets/controls",
            "_model_module_version": "1.5.0",
            "_model_name": "HTMLModel",
            "_view_count": null,
            "_view_module": "@jupyter-widgets/controls",
            "_view_module_version": "1.5.0",
            "_view_name": "HTMLView",
            "description": "",
            "description_tooltip": null,
            "layout": "IPY_MODEL_49d7466888e846309a5df3ae587ae2a9",
            "placeholder": "​",
            "style": "IPY_MODEL_d65b8768df454ed2889cdf78e06df497",
            "value": "config.json: 100%"
          }
        },
        "8bca01bafe1347aca534573bab3a0404": {
          "model_module": "@jupyter-widgets/controls",
          "model_module_version": "1.5.0",
          "model_name": "HBoxModel",
          "state": {
            "_dom_classes": [],
            "_model_module": "@jupyter-widgets/controls",
            "_model_module_version": "1.5.0",
            "_model_name": "HBoxModel",
            "_view_count": null,
            "_view_module": "@jupyter-widgets/controls",
            "_view_module_version": "1.5.0",
            "_view_name": "HBoxView",
            "box_style": "",
            "children": [
              "IPY_MODEL_86bdb2b6d7944a759061a1c2027e5f66",
              "IPY_MODEL_11643e0e5dba40939e3970ff7ba94e2f",
              "IPY_MODEL_894072a6959440809f59a34bf12217f3"
            ],
            "layout": "IPY_MODEL_3c67728006834d418058d4137d9627f4"
          }
        },
        "8c0c3ed4191f4e5599a5963c1bdee943": {
          "model_module": "@jupyter-widgets/base",
          "model_module_version": "1.2.0",
          "model_name": "LayoutModel",
          "state": {
            "_model_module": "@jupyter-widgets/base",
            "_model_module_version": "1.2.0",
            "_model_name": "LayoutModel",
            "_view_count": null,
            "_view_module": "@jupyter-widgets/base",
            "_view_module_version": "1.2.0",
            "_view_name": "LayoutView",
            "align_content": null,
            "align_items": null,
            "align_self": null,
            "border": null,
            "bottom": null,
            "display": null,
            "flex": null,
            "flex_flow": null,
            "grid_area": null,
            "grid_auto_columns": null,
            "grid_auto_flow": null,
            "grid_auto_rows": null,
            "grid_column": null,
            "grid_gap": null,
            "grid_row": null,
            "grid_template_areas": null,
            "grid_template_columns": null,
            "grid_template_rows": null,
            "height": null,
            "justify_content": null,
            "justify_items": null,
            "left": null,
            "margin": null,
            "max_height": null,
            "max_width": null,
            "min_height": null,
            "min_width": null,
            "object_fit": null,
            "object_position": null,
            "order": null,
            "overflow": null,
            "overflow_x": null,
            "overflow_y": null,
            "padding": null,
            "right": null,
            "top": null,
            "visibility": null,
            "width": null
          }
        },
        "99e8536f74f447aebcd9f57652e3d425": {
          "model_module": "@jupyter-widgets/base",
          "model_module_version": "1.2.0",
          "model_name": "LayoutModel",
          "state": {
            "_model_module": "@jupyter-widgets/base",
            "_model_module_version": "1.2.0",
            "_model_name": "LayoutModel",
            "_view_count": null,
            "_view_module": "@jupyter-widgets/base",
            "_view_module_version": "1.2.0",
            "_view_name": "LayoutView",
            "align_content": null,
            "align_items": null,
            "align_self": null,
            "border": null,
            "bottom": null,
            "display": null,
            "flex": null,
            "flex_flow": null,
            "grid_area": null,
            "grid_auto_columns": null,
            "grid_auto_flow": null,
            "grid_auto_rows": null,
            "grid_column": null,
            "grid_gap": null,
            "grid_row": null,
            "grid_template_areas": null,
            "grid_template_columns": null,
            "grid_template_rows": null,
            "height": null,
            "justify_content": null,
            "justify_items": null,
            "left": null,
            "margin": null,
            "max_height": null,
            "max_width": null,
            "min_height": null,
            "min_width": null,
            "object_fit": null,
            "object_position": null,
            "order": null,
            "overflow": null,
            "overflow_x": null,
            "overflow_y": null,
            "padding": null,
            "right": null,
            "top": null,
            "visibility": null,
            "width": null
          }
        },
        "a799386305f74117a2f350b872c1fd13": {
          "model_module": "@jupyter-widgets/base",
          "model_module_version": "1.2.0",
          "model_name": "LayoutModel",
          "state": {
            "_model_module": "@jupyter-widgets/base",
            "_model_module_version": "1.2.0",
            "_model_name": "LayoutModel",
            "_view_count": null,
            "_view_module": "@jupyter-widgets/base",
            "_view_module_version": "1.2.0",
            "_view_name": "LayoutView",
            "align_content": null,
            "align_items": null,
            "align_self": null,
            "border": null,
            "bottom": null,
            "display": null,
            "flex": null,
            "flex_flow": null,
            "grid_area": null,
            "grid_auto_columns": null,
            "grid_auto_flow": null,
            "grid_auto_rows": null,
            "grid_column": null,
            "grid_gap": null,
            "grid_row": null,
            "grid_template_areas": null,
            "grid_template_columns": null,
            "grid_template_rows": null,
            "height": null,
            "justify_content": null,
            "justify_items": null,
            "left": null,
            "margin": null,
            "max_height": null,
            "max_width": null,
            "min_height": null,
            "min_width": null,
            "object_fit": null,
            "object_position": null,
            "order": null,
            "overflow": null,
            "overflow_x": null,
            "overflow_y": null,
            "padding": null,
            "right": null,
            "top": null,
            "visibility": null,
            "width": null
          }
        },
        "abc9156c1b734df89fb66a72136b9e51": {
          "model_module": "@jupyter-widgets/controls",
          "model_module_version": "1.5.0",
          "model_name": "DescriptionStyleModel",
          "state": {
            "_model_module": "@jupyter-widgets/controls",
            "_model_module_version": "1.5.0",
            "_model_name": "DescriptionStyleModel",
            "_view_count": null,
            "_view_module": "@jupyter-widgets/base",
            "_view_module_version": "1.2.0",
            "_view_name": "StyleView",
            "description_width": ""
          }
        },
        "acd7ea4fcce9451ca64ee8cd0d487d06": {
          "model_module": "@jupyter-widgets/controls",
          "model_module_version": "1.5.0",
          "model_name": "FloatProgressModel",
          "state": {
            "_dom_classes": [],
            "_model_module": "@jupyter-widgets/controls",
            "_model_module_version": "1.5.0",
            "_model_name": "FloatProgressModel",
            "_view_count": null,
            "_view_module": "@jupyter-widgets/controls",
            "_view_module_version": "1.5.0",
            "_view_name": "ProgressView",
            "bar_style": "success",
            "description": "",
            "description_tooltip": null,
            "layout": "IPY_MODEL_557f7dd122c940b1b0cb0f2b83b25fe1",
            "max": 285,
            "min": 0,
            "orientation": "horizontal",
            "style": "IPY_MODEL_6d50b7cb361f43d09c64795f953e58ea",
            "value": 285
          }
        },
        "b210d4bc54464ef29c6fbfebf5a4962c": {
          "model_module": "@jupyter-widgets/controls",
          "model_module_version": "1.5.0",
          "model_name": "HBoxModel",
          "state": {
            "_dom_classes": [],
            "_model_module": "@jupyter-widgets/controls",
            "_model_module_version": "1.5.0",
            "_model_name": "HBoxModel",
            "_view_count": null,
            "_view_module": "@jupyter-widgets/controls",
            "_view_module_version": "1.5.0",
            "_view_name": "HBoxView",
            "box_style": "",
            "children": [
              "IPY_MODEL_8456f1a85e4244c084b832690edc5a04",
              "IPY_MODEL_4aa3a5b2f79a4a1899c7f777f7b7d6e7",
              "IPY_MODEL_6b315f0f5dc24998a7f1bf5ef19c7d2a"
            ],
            "layout": "IPY_MODEL_d7c54a863777445787543c225c935014"
          }
        },
        "b94b2b95b95747e0bd3f907f8652c02d": {
          "model_module": "@jupyter-widgets/controls",
          "model_module_version": "1.5.0",
          "model_name": "ProgressStyleModel",
          "state": {
            "_model_module": "@jupyter-widgets/controls",
            "_model_module_version": "1.5.0",
            "_model_name": "ProgressStyleModel",
            "_view_count": null,
            "_view_module": "@jupyter-widgets/base",
            "_view_module_version": "1.2.0",
            "_view_name": "StyleView",
            "bar_color": null,
            "description_width": ""
          }
        },
        "bb12bfa770dd4f74a91af76bc0ee5cb9": {
          "model_module": "@jupyter-widgets/base",
          "model_module_version": "1.2.0",
          "model_name": "LayoutModel",
          "state": {
            "_model_module": "@jupyter-widgets/base",
            "_model_module_version": "1.2.0",
            "_model_name": "LayoutModel",
            "_view_count": null,
            "_view_module": "@jupyter-widgets/base",
            "_view_module_version": "1.2.0",
            "_view_name": "LayoutView",
            "align_content": null,
            "align_items": null,
            "align_self": null,
            "border": null,
            "bottom": null,
            "display": null,
            "flex": null,
            "flex_flow": null,
            "grid_area": null,
            "grid_auto_columns": null,
            "grid_auto_flow": null,
            "grid_auto_rows": null,
            "grid_column": null,
            "grid_gap": null,
            "grid_row": null,
            "grid_template_areas": null,
            "grid_template_columns": null,
            "grid_template_rows": null,
            "height": null,
            "justify_content": null,
            "justify_items": null,
            "left": null,
            "margin": null,
            "max_height": null,
            "max_width": null,
            "min_height": null,
            "min_width": null,
            "object_fit": null,
            "object_position": null,
            "order": null,
            "overflow": null,
            "overflow_x": null,
            "overflow_y": null,
            "padding": null,
            "right": null,
            "top": null,
            "visibility": null,
            "width": null
          }
        },
        "c156748fb0e5478885cdc78c03064c2a": {
          "model_module": "@jupyter-widgets/controls",
          "model_module_version": "1.5.0",
          "model_name": "HTMLModel",
          "state": {
            "_dom_classes": [],
            "_model_module": "@jupyter-widgets/controls",
            "_model_module_version": "1.5.0",
            "_model_name": "HTMLModel",
            "_view_count": null,
            "_view_module": "@jupyter-widgets/controls",
            "_view_module_version": "1.5.0",
            "_view_name": "HTMLView",
            "description": "",
            "description_tooltip": null,
            "layout": "IPY_MODEL_48aebdc8523d4c01b7017a0345f87fd3",
            "placeholder": "​",
            "style": "IPY_MODEL_307baa92cc3447a19f3dcbaee634afa2",
            "value": " 17.8M/17.8M [00:00&lt;00:00, 96.7MB/s]"
          }
        },
        "c8d6001753d04981bd171d554ab260f5": {
          "model_module": "@jupyter-widgets/controls",
          "model_module_version": "1.5.0",
          "model_name": "HTMLModel",
          "state": {
            "_dom_classes": [],
            "_model_module": "@jupyter-widgets/controls",
            "_model_module_version": "1.5.0",
            "_model_name": "HTMLModel",
            "_view_count": null,
            "_view_module": "@jupyter-widgets/controls",
            "_view_module_version": "1.5.0",
            "_view_name": "HTMLView",
            "description": "",
            "description_tooltip": null,
            "layout": "IPY_MODEL_36a4613486f740c6b580db27a61550c3",
            "placeholder": "​",
            "style": "IPY_MODEL_54d4de0af2d7441684bddfff7fd9cd62",
            "value": "pytorch_model.bin: 100%"
          }
        },
        "d65b8768df454ed2889cdf78e06df497": {
          "model_module": "@jupyter-widgets/controls",
          "model_module_version": "1.5.0",
          "model_name": "DescriptionStyleModel",
          "state": {
            "_model_module": "@jupyter-widgets/controls",
            "_model_module_version": "1.5.0",
            "_model_name": "DescriptionStyleModel",
            "_view_count": null,
            "_view_module": "@jupyter-widgets/base",
            "_view_module_version": "1.2.0",
            "_view_name": "StyleView",
            "description_width": ""
          }
        },
        "d7c54a863777445787543c225c935014": {
          "model_module": "@jupyter-widgets/base",
          "model_module_version": "1.2.0",
          "model_name": "LayoutModel",
          "state": {
            "_model_module": "@jupyter-widgets/base",
            "_model_module_version": "1.2.0",
            "_model_name": "LayoutModel",
            "_view_count": null,
            "_view_module": "@jupyter-widgets/base",
            "_view_module_version": "1.2.0",
            "_view_name": "LayoutView",
            "align_content": null,
            "align_items": null,
            "align_self": null,
            "border": null,
            "bottom": null,
            "display": null,
            "flex": null,
            "flex_flow": null,
            "grid_area": null,
            "grid_auto_columns": null,
            "grid_auto_flow": null,
            "grid_auto_rows": null,
            "grid_column": null,
            "grid_gap": null,
            "grid_row": null,
            "grid_template_areas": null,
            "grid_template_columns": null,
            "grid_template_rows": null,
            "height": null,
            "justify_content": null,
            "justify_items": null,
            "left": null,
            "margin": null,
            "max_height": null,
            "max_width": null,
            "min_height": null,
            "min_width": null,
            "object_fit": null,
            "object_position": null,
            "order": null,
            "overflow": null,
            "overflow_x": null,
            "overflow_y": null,
            "padding": null,
            "right": null,
            "top": null,
            "visibility": null,
            "width": null
          }
        },
        "e0d8bad8bd0440cea89bbd9da4755b0a": {
          "model_module": "@jupyter-widgets/controls",
          "model_module_version": "1.5.0",
          "model_name": "DescriptionStyleModel",
          "state": {
            "_model_module": "@jupyter-widgets/controls",
            "_model_module_version": "1.5.0",
            "_model_name": "DescriptionStyleModel",
            "_view_count": null,
            "_view_module": "@jupyter-widgets/base",
            "_view_module_version": "1.2.0",
            "_view_name": "StyleView",
            "description_width": ""
          }
        },
        "e7eb3ae99ea540d8ace5fafb8636d0e2": {
          "model_module": "@jupyter-widgets/controls",
          "model_module_version": "1.5.0",
          "model_name": "HTMLModel",
          "state": {
            "_dom_classes": [],
            "_model_module": "@jupyter-widgets/controls",
            "_model_module_version": "1.5.0",
            "_model_name": "HTMLModel",
            "_view_count": null,
            "_view_module": "@jupyter-widgets/controls",
            "_view_module_version": "1.5.0",
            "_view_name": "HTMLView",
            "description": "",
            "description_tooltip": null,
            "layout": "IPY_MODEL_6c6c65aaffa04d4d8106fb8954292aa9",
            "placeholder": "​",
            "style": "IPY_MODEL_abc9156c1b734df89fb66a72136b9e51",
            "value": " 285/285 [00:00&lt;00:00, 17.3kB/s]"
          }
        },
        "f5fc6fb64d4e4f97a4895a34a87f85d8": {
          "model_module": "@jupyter-widgets/controls",
          "model_module_version": "1.5.0",
          "model_name": "DescriptionStyleModel",
          "state": {
            "_model_module": "@jupyter-widgets/controls",
            "_model_module_version": "1.5.0",
            "_model_name": "DescriptionStyleModel",
            "_view_count": null,
            "_view_module": "@jupyter-widgets/base",
            "_view_module_version": "1.2.0",
            "_view_name": "StyleView",
            "description_width": ""
          }
        }
      }
    }
  },
  "nbformat": 4,
  "nbformat_minor": 0
}